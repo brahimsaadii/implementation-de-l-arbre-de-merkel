{
 "cells": [
  {
   "cell_type": "code",
   "execution_count": 1,
   "metadata": {},
   "outputs": [],
   "source": [
    "import math\n",
    "import hashlib\n",
    "\n",
    "\n",
    "data = ['jfjfjfjfj','gfjh','fgjh','fjhfsf','sgfbb','sfgw','sgfgwg','sgfdg','ssss','2222']\n",
    "\n",
    "class MerkleTreeNode:\n",
    "    def __init__(self,value):\n",
    "        self.left = None\n",
    "        self.right = None\n",
    "        self.value = value\n",
    "        self.hashValue = hashlib.sha256(value.encode('utf-8')).hexdigest()\n",
    "        \n",
    "        \n",
    "def leaf_nodes(data):\n",
    "    leafnodes = []\n",
    "    for i in range(len(data)):\n",
    "        leafnodes.append(MerkleTreeNode(data[i]))\n",
    "    return leafnodes\n",
    "\n",
    "    \n",
    "    \n",
    "    \n",
    "def TreeLevel(leafnodes):\n",
    "    n=0\n",
    "    new_nodes_list = []\n",
    "    for i in range(int(len(leafnodes)/2)):\n",
    "        k = MerkleTreeNode(leafnodes[n].value + leafnodes[n+1].value)\n",
    "        k.left = leafnodes[n]\n",
    "        k.right= leafnodes[n + 1]\n",
    "        new_nodes_list.append(k)\n",
    "        n += 2\n",
    "\n",
    "        if n+1 >= len(data):\n",
    "            break\n",
    "        \n",
    "    if(len(leafnodes)>n):\n",
    "        new_nodes_list.append(leafnodes[n-2])\n",
    "    \n",
    "    return new_nodes_list\n",
    "\n",
    "\n",
    "def merkel_root(data):\n",
    "    if len(data)<=2:\n",
    "        if len(data) == 1:\n",
    "            return MerkleTreeNode(data[0])\n",
    "        else:\n",
    "            leafnodes = []\n",
    "            for i in range(len(data)):\n",
    "                leafnodes.append(MerkleTreeNode(data[i]))\n",
    "            k = MerkleTreeNode(leafnodes[0].value + leafnodes[1].value)\n",
    "            k.left = leafnodes[0]\n",
    "            k.right= leafnodes[1]\n",
    "            return k\n",
    "    else:\n",
    "        leafnodes = []\n",
    "        for i in range(len(data)):\n",
    "            leafnodes.append(MerkleTreeNode(data[i]))\n",
    "\n",
    "        tree_level = leafnodes\n",
    "        for i in range(int(math.log2(len(data))) + 1):\n",
    "            tree_level = TreeLevel(tree_level)\n",
    "        return tree_level[0]\n",
    "\n"
   ]
  },
  {
   "cell_type": "markdown",
   "metadata": {},
   "source": [
    "## trouver element de la liste "
   ]
  },
  {
   "cell_type": "code",
   "execution_count": 7,
   "metadata": {},
   "outputs": [
    {
     "name": "stdout",
     "output_type": "stream",
     "text": [
      "b7555a013d947e478f2b8fe92a6278079811e228ac04cb3e434883eff5c0c152\n"
     ]
    }
   ],
   "source": [
    "\n",
    "def merkel_tree(data):\n",
    "    leafnodes = []\n",
    "    for i in range(len(data)):\n",
    "        leafnodes.append(MerkleTreeNode(data[i]))\n",
    "\n",
    "    leafnodes\n",
    "    tree = []\n",
    "    tree.append(leafnodes)\n",
    "    treelevel = leafnodes\n",
    "\n",
    "    for i in range(int(math.log2(len(data)))+1):\n",
    "        treelevel = TreeLevel(treelevel)\n",
    "        tree.append(treelevel)\n",
    "    return tree\n",
    "\n",
    "\n",
    "\n",
    "\n",
    "def concatenate_tow_nodes(left_node, right_node):\n",
    "    node = MerkleTreeNode(left_node.value + right_node.value)\n",
    "    node.left = left_node\n",
    "    node.right = right_node\n",
    "    return node\n",
    "\n",
    "\n",
    "def verify_element(index,n=0):\n",
    "    if len(tree[n])%2 == 1 and index == len(tree[n])-1:\n",
    "        node = tree[n][index]\n",
    "    else:\n",
    "        if index%2 == 0:\n",
    "            left_node = tree[n][index]\n",
    "            right_node = tree[n][index + 1]\n",
    "        else:\n",
    "            left_node = tree[n][index-1]\n",
    "            right_node = tree[n][index]\n",
    "\n",
    "        node = concatenate_tow_nodes(left_node, right_node)\n",
    "\n",
    "    n += 1\n",
    "    if n < len(tree)-1:\n",
    "        return verify_element(index//2, n)\n",
    "\n",
    "    else:\n",
    "        return node\n",
    "    \n",
    "    \n",
    "\n",
    "tree = merkel_tree(data)\n",
    "\n",
    "\n",
    "element = input(\"entrez l'element que tu veux verifier : \")\n",
    "try:\n",
    "    index = data.index(element)\n",
    "except ValueError:\n",
    "    print(\"l'element n'existe pas\")\n",
    "else:\n",
    "    print(verify_element(index).hashValue)\n",
    "\n",
    "\n",
    "\n",
    "\n"
   ]
  },
  {
   "cell_type": "code",
   "execution_count": 5,
   "metadata": {},
   "outputs": [
    {
     "data": {
      "text/plain": [
       "9"
      ]
     },
     "execution_count": 5,
     "metadata": {},
     "output_type": "execute_result"
    }
   ],
   "source": [
    "index"
   ]
  },
  {
   "cell_type": "code",
   "execution_count": null,
   "metadata": {},
   "outputs": [],
   "source": []
  },
  {
   "cell_type": "code",
   "execution_count": null,
   "metadata": {},
   "outputs": [],
   "source": [
    "# def verification(index,n=0):\n",
    "#     if index%2 == 0:\n",
    "#         print(index)\n",
    "#         left_node = tree[n][index]\n",
    "#         right_node = tree[n][index + 1]\n",
    "\n",
    "#     else:\n",
    "#         left_node = tree[n][index-1]\n",
    "#         right_node = tree[n][index]\n",
    "\n",
    "#     node = concatenate_tow_nodes(left_node, right_node)\n",
    "#     n += 1\n",
    "#     if n < len(tree)-1:\n",
    "#         return verification(index//2, n)\n",
    "\n",
    "#         # print(n, index)\n",
    "#     else:\n",
    "#         return node"
   ]
  },
  {
   "cell_type": "code",
   "execution_count": 38,
   "metadata": {},
   "outputs": [
    {
     "name": "stdout",
     "output_type": "stream",
     "text": [
      "b7555a013d947e478f2b8fe92a6278079811e228ac04cb3e434883eff5c0c152\n"
     ]
    }
   ],
   "source": [
    "\n",
    "\n",
    "\n",
    "def verify_element(index,n=0):\n",
    "    if len(tree[n])%2 == 1 and index == len(tree[n])-1:\n",
    "        node = tree[n][index]\n",
    "    else:\n",
    "        if index%2 == 0:\n",
    "            left_node = tree[n][index]\n",
    "            right_node = tree[n][index + 1]\n",
    "        else:\n",
    "            left_node = tree[n][index-1]\n",
    "            right_node = tree[n][index]\n",
    "\n",
    "        node = concatenate_tow_nodes(left_node, right_node)\n",
    "\n",
    "    n += 1\n",
    "    if n < len(tree)-1:\n",
    "        return verify_element(index//2, n)\n",
    "\n",
    "    else:\n",
    "        return node\n",
    "    \n",
    "\n",
    "print(foncnt(9).hashValue)"
   ]
  },
  {
   "cell_type": "code",
   "execution_count": null,
   "metadata": {},
   "outputs": [],
   "source": []
  }
 ],
 "metadata": {
  "kernelspec": {
   "display_name": "Python 3",
   "language": "python",
   "name": "python3"
  },
  "language_info": {
   "codemirror_mode": {
    "name": "ipython",
    "version": 3
   },
   "file_extension": ".py",
   "mimetype": "text/x-python",
   "name": "python",
   "nbconvert_exporter": "python",
   "pygments_lexer": "ipython3",
   "version": "3.10.10"
  }
 },
 "nbformat": 4,
 "nbformat_minor": 2
}
